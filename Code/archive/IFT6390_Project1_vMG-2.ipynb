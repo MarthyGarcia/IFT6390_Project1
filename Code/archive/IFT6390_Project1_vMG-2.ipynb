{
  "nbformat": 4,
  "nbformat_minor": 0,
  "metadata": {
    "colab": {
      "name": "IFT6390_Project1_vMG.ipynb",
      "provenance": [],
      "collapsed_sections": []
    },
    "kernelspec": {
      "name": "python3",
      "display_name": "Python 3"
    }
  },
  "cells": [
    {
      "cell_type": "code",
      "metadata": {
        "id": "Pr4YFJRMbtio"
      },
      "source": [
        "import pandas as pd\n",
        "import numpy as np\n",
        "import matplotlib.pyplot as plt \n",
        "import seaborn as sns\n",
        "%matplotlib inline\n",
        "\n",
        "# model utils\n",
        "from sklearn.utils import shuffle\n",
        "#model selection\n",
        "from sklearn.model_selection import RandomizedSearchCV\n",
        "from sklearn.model_selection import train_test_split\n",
        "# models\n",
        "from sklearn.linear_model import LinearRegression\n",
        "from sklearn.ensemble import GradientBoostingRegressor\n",
        "from sklearn.ensemble import RandomForestRegressor\n",
        "from sklearn.ensemble import VotingRegressor"
      ],
      "execution_count": 151,
      "outputs": []
    },
    {
      "cell_type": "markdown",
      "metadata": {
        "id": "fkBY3t2KoRAb"
      },
      "source": [
        "## **Step 0. Load data**"
      ]
    },
    {
      "cell_type": "code",
      "metadata": {
        "id": "NOWhMznyoDUs"
      },
      "source": [
        "!wget -q https://raw.githubusercontent.com/MarthyGarcia/IFT6390_Project1/main/Data/weight-height.csv"
      ],
      "execution_count": 99,
      "outputs": []
    },
    {
      "cell_type": "code",
      "metadata": {
        "id": "4MuvY7b8dIzO"
      },
      "source": [
        "df = pd.read_csv('weight-height.csv')"
      ],
      "execution_count": 100,
      "outputs": []
    },
    {
      "cell_type": "code",
      "metadata": {
        "colab": {
          "base_uri": "https://localhost:8080/",
          "height": 204
        },
        "id": "ja4pqbGEoImM",
        "outputId": "bb0e689a-0d7f-48e8-e14f-4de0595803a7"
      },
      "source": [
        "df.head()"
      ],
      "execution_count": 101,
      "outputs": [
        {
          "output_type": "execute_result",
          "data": {
            "text/html": [
              "<div>\n",
              "<style scoped>\n",
              "    .dataframe tbody tr th:only-of-type {\n",
              "        vertical-align: middle;\n",
              "    }\n",
              "\n",
              "    .dataframe tbody tr th {\n",
              "        vertical-align: top;\n",
              "    }\n",
              "\n",
              "    .dataframe thead th {\n",
              "        text-align: right;\n",
              "    }\n",
              "</style>\n",
              "<table border=\"1\" class=\"dataframe\">\n",
              "  <thead>\n",
              "    <tr style=\"text-align: right;\">\n",
              "      <th></th>\n",
              "      <th>Gender</th>\n",
              "      <th>Height</th>\n",
              "      <th>Weight</th>\n",
              "    </tr>\n",
              "  </thead>\n",
              "  <tbody>\n",
              "    <tr>\n",
              "      <th>0</th>\n",
              "      <td>Male</td>\n",
              "      <td>73.847017</td>\n",
              "      <td>241.893563</td>\n",
              "    </tr>\n",
              "    <tr>\n",
              "      <th>1</th>\n",
              "      <td>Male</td>\n",
              "      <td>68.781904</td>\n",
              "      <td>162.310473</td>\n",
              "    </tr>\n",
              "    <tr>\n",
              "      <th>2</th>\n",
              "      <td>Male</td>\n",
              "      <td>74.110105</td>\n",
              "      <td>212.740856</td>\n",
              "    </tr>\n",
              "    <tr>\n",
              "      <th>3</th>\n",
              "      <td>Male</td>\n",
              "      <td>71.730978</td>\n",
              "      <td>220.042470</td>\n",
              "    </tr>\n",
              "    <tr>\n",
              "      <th>4</th>\n",
              "      <td>Male</td>\n",
              "      <td>69.881796</td>\n",
              "      <td>206.349801</td>\n",
              "    </tr>\n",
              "  </tbody>\n",
              "</table>\n",
              "</div>"
            ],
            "text/plain": [
              "  Gender     Height      Weight\n",
              "0   Male  73.847017  241.893563\n",
              "1   Male  68.781904  162.310473\n",
              "2   Male  74.110105  212.740856\n",
              "3   Male  71.730978  220.042470\n",
              "4   Male  69.881796  206.349801"
            ]
          },
          "metadata": {
            "tags": []
          },
          "execution_count": 101
        }
      ]
    },
    {
      "cell_type": "markdown",
      "metadata": {
        "id": "OXY2dz8loZOd"
      },
      "source": [
        "## **Step 1. Exploratory data analysis**"
      ]
    },
    {
      "cell_type": "code",
      "metadata": {
        "colab": {
          "base_uri": "https://localhost:8080/"
        },
        "id": "GxCqIffPoYAD",
        "outputId": "2a3c3c8d-f9c3-403c-945d-717a7a60ac3a"
      },
      "source": [
        "# get data types\n",
        "df.info()"
      ],
      "execution_count": 102,
      "outputs": [
        {
          "output_type": "stream",
          "text": [
            "<class 'pandas.core.frame.DataFrame'>\n",
            "RangeIndex: 10000 entries, 0 to 9999\n",
            "Data columns (total 3 columns):\n",
            " #   Column  Non-Null Count  Dtype  \n",
            "---  ------  --------------  -----  \n",
            " 0   Gender  10000 non-null  object \n",
            " 1   Height  10000 non-null  float64\n",
            " 2   Weight  10000 non-null  float64\n",
            "dtypes: float64(2), object(1)\n",
            "memory usage: 234.5+ KB\n"
          ],
          "name": "stdout"
        }
      ]
    },
    {
      "cell_type": "code",
      "metadata": {
        "colab": {
          "base_uri": "https://localhost:8080/"
        },
        "id": "qUv0LWYFqeoc",
        "outputId": "bc7541c7-5d65-4e4e-a842-eb7cae5b1ec4"
      },
      "source": [
        "# title Install the facets_overview pip package.\n",
        "!pip install facets-overview"
      ],
      "execution_count": 103,
      "outputs": [
        {
          "output_type": "stream",
          "text": [
            "Requirement already satisfied: facets-overview in /usr/local/lib/python3.7/dist-packages (1.0.0)\n",
            "Requirement already satisfied: pandas>=0.22.0 in /usr/local/lib/python3.7/dist-packages (from facets-overview) (1.1.5)\n",
            "Requirement already satisfied: numpy>=1.16.0 in /usr/local/lib/python3.7/dist-packages (from facets-overview) (1.19.5)\n",
            "Requirement already satisfied: protobuf>=3.7.0 in /usr/local/lib/python3.7/dist-packages (from facets-overview) (3.12.4)\n",
            "Requirement already satisfied: python-dateutil>=2.7.3 in /usr/local/lib/python3.7/dist-packages (from pandas>=0.22.0->facets-overview) (2.8.1)\n",
            "Requirement already satisfied: pytz>=2017.2 in /usr/local/lib/python3.7/dist-packages (from pandas>=0.22.0->facets-overview) (2018.9)\n",
            "Requirement already satisfied: setuptools in /usr/local/lib/python3.7/dist-packages (from protobuf>=3.7.0->facets-overview) (53.0.0)\n",
            "Requirement already satisfied: six>=1.9 in /usr/local/lib/python3.7/dist-packages (from protobuf>=3.7.0->facets-overview) (1.15.0)\n"
          ],
          "name": "stdout"
        }
      ]
    },
    {
      "cell_type": "code",
      "metadata": {
        "id": "tVVPhLzPqvEe"
      },
      "source": [
        "# Create the feature stats for the datasets and stringify it.\n",
        "from facets_overview.generic_feature_statistics_generator import GenericFeatureStatisticsGenerator\n",
        "import pandas as pd\n",
        "proto = GenericFeatureStatisticsGenerator().ProtoFromDataFrames([{'name': 'raw_data', 'table': df}])"
      ],
      "execution_count": 104,
      "outputs": []
    },
    {
      "cell_type": "code",
      "metadata": {
        "colab": {
          "base_uri": "https://localhost:8080/",
          "height": 591
        },
        "id": "4GLwV-eDq1H9",
        "outputId": "54c32bfa-95d7-43fd-c4fd-fa133306e659"
      },
      "source": [
        "from IPython.core.display import display, HTML\n",
        "import base64\n",
        "protostr = base64.b64encode(proto.SerializeToString()).decode(\"utf-8\")\n",
        "HTML_TEMPLATE = \"\"\"\n",
        "        <script src=\"https://cdnjs.cloudflare.com/ajax/libs/webcomponentsjs/1.3.3/webcomponents-lite.js\"></script>\n",
        "        <link rel=\"import\" href=\"https://raw.githubusercontent.com/PAIR-code/facets/1.0.0/facets-dist/facets-jupyter.html\" >\n",
        "        <facets-overview id=\"elem\"></facets-overview>\n",
        "        <script>\n",
        "          document.querySelector(\"#elem\").protoInput = \"{protostr}\";\n",
        "        </script>\"\"\"\n",
        "html = HTML_TEMPLATE.format(protostr=protostr)\n",
        "display(HTML(html))"
      ],
      "execution_count": 105,
      "outputs": [
        {
          "output_type": "display_data",
          "data": {
            "text/html": [
              "\n",
              "        <script src=\"https://cdnjs.cloudflare.com/ajax/libs/webcomponentsjs/1.3.3/webcomponents-lite.js\"></script>\n",
              "        <link rel=\"import\" href=\"https://raw.githubusercontent.com/PAIR-code/facets/1.0.0/facets-dist/facets-jupyter.html\" >\n",
              "        <facets-overview id=\"elem\"></facets-overview>\n",
              "        <script>\n",
              "          document.querySelector(\"#elem\").protoInput = \"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\";\n",
              "        </script>"
            ],
            "text/plain": [
              "<IPython.core.display.HTML object>"
            ]
          },
          "metadata": {
            "tags": []
          }
        }
      ]
    },
    {
      "cell_type": "markdown",
      "metadata": {
        "id": "Qz9vv6Teq9ig"
      },
      "source": [
        "There is a total of 10,000 samples. The data is composed of 3 fields: \n",
        "\n",
        "1.   Gender: two values are possible male and female. They are equally distributed.\n",
        "2.   Height: the height is distributed between a min value of 54.26 and a max value of 79. The average is 66.37 with a standard deviation of 3.85. \n",
        "3. Weight: the weight is distributed between a min value of 64.7 and a maximum of 269.99. The average weight is 161.44 with a standard deviation of 32.11.\n",
        "\n",
        "The goal is to predict the weight of a person given the gender and the height.\n"
      ]
    },
    {
      "cell_type": "code",
      "metadata": {
        "colab": {
          "base_uri": "https://localhost:8080/",
          "height": 385
        },
        "id": "txfe9xpbsimv",
        "outputId": "3417c7c1-612c-4ea1-a379-10759a9ac55c"
      },
      "source": [
        "# plot the distribution of the label (Weight)\n",
        "sns.displot(df['Weight'].dropna(), bins=15, kde=False)\n",
        "plt.ylabel('Count')\n",
        "plt.title('Weight distribution');"
      ],
      "execution_count": 106,
      "outputs": [
        {
          "output_type": "display_data",
          "data": {
            "image/png": "[encoded data removed]",
            "text/plain": [
              "<Figure size 360x360 with 1 Axes>"
            ]
          },
          "metadata": {
            "tags": [],
            "needs_background": "light"
          }
        }
      ]
    },
    {
      "cell_type": "code",
      "metadata": {
        "colab": {
          "base_uri": "https://localhost:8080/",
          "height": 295
        },
        "id": "p8UiS12jtgKj",
        "outputId": "d8fb3d8f-4608-4474-fcf4-471037cd251f"
      },
      "source": [
        "#plot weight against height and gender\n",
        "sns.scatterplot(x=df[\"Height\"], y=df[\"Weight\"], hue=df['Gender'], style=df['Gender'], alpha=0.5)\n",
        "plt.xlabel(\"Height\")\n",
        "plt.ylabel(\"Weight\")\n",
        "plt.title(\"Weight in function of Height and gender\")\n",
        "plt.show();"
      ],
      "execution_count": 107,
      "outputs": [
        {
          "output_type": "display_data",
          "data": {
            "image/png": "[encoded data removed]",
            "text/plain": [
              "<Figure size 432x288 with 1 Axes>"
            ]
          },
          "metadata": {
            "tags": [],
            "needs_background": "light"
          }
        }
      ]
    },
    {
      "cell_type": "code",
      "metadata": {
        "id": "FpHbTOnrxQ-4"
      },
      "source": [
        "male_df=df[df[\"Gender\"]=='Male']\n",
        "female_df=df[df[\"Gender\"]=='Female']"
      ],
      "execution_count": 108,
      "outputs": []
    },
    {
      "cell_type": "code",
      "metadata": {
        "colab": {
          "base_uri": "https://localhost:8080/",
          "height": 295
        },
        "id": "7bsddzfKxdQ-",
        "outputId": "a18bc38c-3478-4b1d-dac5-20eb4392b246"
      },
      "source": [
        "#plot weight against height and gender\n",
        "sns.scatterplot(x=female_df[\"Height\"], y=female_df[\"Weight\"], color='orange')\n",
        "plt.xlabel(\"Height\")\n",
        "plt.ylabel(\"Weight\")\n",
        "plt.title(\"Women weight\")\n",
        "plt.show();"
      ],
      "execution_count": 109,
      "outputs": [
        {
          "output_type": "display_data",
          "data": {
            "image/png": "[encoded data removed]",
            "text/plain": [
              "<Figure size 432x288 with 1 Axes>"
            ]
          },
          "metadata": {
            "tags": [],
            "needs_background": "light"
          }
        }
      ]
    },
    {
      "cell_type": "code",
      "metadata": {
        "colab": {
          "base_uri": "https://localhost:8080/",
          "height": 295
        },
        "id": "z48QGKwixxjK",
        "outputId": "af1226d2-52c8-4319-a3f3-35a064f8f136"
      },
      "source": [
        "#plot weight against height and gender\n",
        "sns.scatterplot(x=male_df[\"Height\"], y=male_df[\"Weight\"], color='blue')\n",
        "plt.xlabel(\"Height\")\n",
        "plt.ylabel(\"Weight\")\n",
        "plt.title(\"Men weight\")\n",
        "plt.show();"
      ],
      "execution_count": 110,
      "outputs": [
        {
          "output_type": "display_data",
          "data": {
            "image/png": "[encoded data removed]",
            "text/plain": [
              "<Figure size 432x288 with 1 Axes>"
            ]
          },
          "metadata": {
            "tags": [],
            "needs_background": "light"
          }
        }
      ]
    },
    {
      "cell_type": "markdown",
      "metadata": {
        "id": "whqWIgh9x6m-"
      },
      "source": [
        "From the data, it seems like the men are taller and heavier than women. "
      ]
    },
    {
      "cell_type": "code",
      "metadata": {
        "colab": {
          "base_uri": "https://localhost:8080/"
        },
        "id": "4OxUmRtTpLAU",
        "outputId": "37dca131-e6f1-4154-c0e8-c4af7765f324"
      },
      "source": [
        "# it seems like there are no null values. Let's verify it\n",
        "df.isnull().sum()"
      ],
      "execution_count": 111,
      "outputs": [
        {
          "output_type": "execute_result",
          "data": {
            "text/plain": [
              "Gender    0\n",
              "Height    0\n",
              "Weight    0\n",
              "dtype: int64"
            ]
          },
          "metadata": {
            "tags": []
          },
          "execution_count": 111
        }
      ]
    },
    {
      "cell_type": "code",
      "metadata": {
        "colab": {
          "base_uri": "https://localhost:8080/",
          "height": 279
        },
        "id": "vP-hGo-7uHty",
        "outputId": "7dc543cc-7ba2-4d4b-b888-c81c487a7693"
      },
      "source": [
        "sns.boxplot(x=df[\"Gender\"], y=df[\"Weight\"]);"
      ],
      "execution_count": 112,
      "outputs": [
        {
          "output_type": "display_data",
          "data": {
            "image/png": "[encoded data removed]",
            "text/plain": [
              "<Figure size 432x288 with 1 Axes>"
            ]
          },
          "metadata": {
            "tags": [],
            "needs_background": "light"
          }
        }
      ]
    },
    {
      "cell_type": "code",
      "metadata": {
        "colab": {
          "base_uri": "https://localhost:8080/",
          "height": 111
        },
        "id": "JpKsflOq0JIb",
        "outputId": "0ae3a9e2-62b6-4595-e841-ffeb1fbb2008"
      },
      "source": [
        "# make correlation matrix\n",
        "df.corr()"
      ],
      "execution_count": 113,
      "outputs": [
        {
          "output_type": "execute_result",
          "data": {
            "text/html": [
              "<div>\n",
              "<style scoped>\n",
              "    .dataframe tbody tr th:only-of-type {\n",
              "        vertical-align: middle;\n",
              "    }\n",
              "\n",
              "    .dataframe tbody tr th {\n",
              "        vertical-align: top;\n",
              "    }\n",
              "\n",
              "    .dataframe thead th {\n",
              "        text-align: right;\n",
              "    }\n",
              "</style>\n",
              "<table border=\"1\" class=\"dataframe\">\n",
              "  <thead>\n",
              "    <tr style=\"text-align: right;\">\n",
              "      <th></th>\n",
              "      <th>Height</th>\n",
              "      <th>Weight</th>\n",
              "    </tr>\n",
              "  </thead>\n",
              "  <tbody>\n",
              "    <tr>\n",
              "      <th>Height</th>\n",
              "      <td>1.000000</td>\n",
              "      <td>0.924756</td>\n",
              "    </tr>\n",
              "    <tr>\n",
              "      <th>Weight</th>\n",
              "      <td>0.924756</td>\n",
              "      <td>1.000000</td>\n",
              "    </tr>\n",
              "  </tbody>\n",
              "</table>\n",
              "</div>"
            ],
            "text/plain": [
              "          Height    Weight\n",
              "Height  1.000000  0.924756\n",
              "Weight  0.924756  1.000000"
            ]
          },
          "metadata": {
            "tags": []
          },
          "execution_count": 113
        }
      ]
    },
    {
      "cell_type": "markdown",
      "metadata": {
        "id": "Q5ZSDNXcuIK9"
      },
      "source": [
        "## **Step 4. Feature engineering**"
      ]
    },
    {
      "cell_type": "code",
      "metadata": {
        "colab": {
          "base_uri": "https://localhost:8080/",
          "height": 204
        },
        "id": "bTuyYpEi4YNU",
        "outputId": "7b3ee418-6e5c-4de2-b8a9-7e82ed0e759e"
      },
      "source": [
        "df.head()"
      ],
      "execution_count": 114,
      "outputs": [
        {
          "output_type": "execute_result",
          "data": {
            "text/html": [
              "<div>\n",
              "<style scoped>\n",
              "    .dataframe tbody tr th:only-of-type {\n",
              "        vertical-align: middle;\n",
              "    }\n",
              "\n",
              "    .dataframe tbody tr th {\n",
              "        vertical-align: top;\n",
              "    }\n",
              "\n",
              "    .dataframe thead th {\n",
              "        text-align: right;\n",
              "    }\n",
              "</style>\n",
              "<table border=\"1\" class=\"dataframe\">\n",
              "  <thead>\n",
              "    <tr style=\"text-align: right;\">\n",
              "      <th></th>\n",
              "      <th>Gender</th>\n",
              "      <th>Height</th>\n",
              "      <th>Weight</th>\n",
              "    </tr>\n",
              "  </thead>\n",
              "  <tbody>\n",
              "    <tr>\n",
              "      <th>0</th>\n",
              "      <td>Male</td>\n",
              "      <td>73.847017</td>\n",
              "      <td>241.893563</td>\n",
              "    </tr>\n",
              "    <tr>\n",
              "      <th>1</th>\n",
              "      <td>Male</td>\n",
              "      <td>68.781904</td>\n",
              "      <td>162.310473</td>\n",
              "    </tr>\n",
              "    <tr>\n",
              "      <th>2</th>\n",
              "      <td>Male</td>\n",
              "      <td>74.110105</td>\n",
              "      <td>212.740856</td>\n",
              "    </tr>\n",
              "    <tr>\n",
              "      <th>3</th>\n",
              "      <td>Male</td>\n",
              "      <td>71.730978</td>\n",
              "      <td>220.042470</td>\n",
              "    </tr>\n",
              "    <tr>\n",
              "      <th>4</th>\n",
              "      <td>Male</td>\n",
              "      <td>69.881796</td>\n",
              "      <td>206.349801</td>\n",
              "    </tr>\n",
              "  </tbody>\n",
              "</table>\n",
              "</div>"
            ],
            "text/plain": [
              "  Gender     Height      Weight\n",
              "0   Male  73.847017  241.893563\n",
              "1   Male  68.781904  162.310473\n",
              "2   Male  74.110105  212.740856\n",
              "3   Male  71.730978  220.042470\n",
              "4   Male  69.881796  206.349801"
            ]
          },
          "metadata": {
            "tags": []
          },
          "execution_count": 114
        }
      ]
    },
    {
      "cell_type": "code",
      "metadata": {
        "id": "9WGkLT0PuN0Y"
      },
      "source": [
        "#one-hot encode categorical features (gender)\n",
        "\n",
        "df.loc[df['Gender'] == 'Male', 'Gender'] = 1\n",
        "df.loc[df['Gender'] == 'Female', 'Gender'] = 0"
      ],
      "execution_count": 115,
      "outputs": []
    },
    {
      "cell_type": "code",
      "metadata": {
        "colab": {
          "base_uri": "https://localhost:8080/",
          "height": 359
        },
        "id": "-K1qtNCT4ahq",
        "outputId": "6730973f-438c-4785-de0c-15ed868e9fb3"
      },
      "source": [
        "df.sample(10)"
      ],
      "execution_count": 116,
      "outputs": [
        {
          "output_type": "execute_result",
          "data": {
            "text/html": [
              "<div>\n",
              "<style scoped>\n",
              "    .dataframe tbody tr th:only-of-type {\n",
              "        vertical-align: middle;\n",
              "    }\n",
              "\n",
              "    .dataframe tbody tr th {\n",
              "        vertical-align: top;\n",
              "    }\n",
              "\n",
              "    .dataframe thead th {\n",
              "        text-align: right;\n",
              "    }\n",
              "</style>\n",
              "<table border=\"1\" class=\"dataframe\">\n",
              "  <thead>\n",
              "    <tr style=\"text-align: right;\">\n",
              "      <th></th>\n",
              "      <th>Gender</th>\n",
              "      <th>Height</th>\n",
              "      <th>Weight</th>\n",
              "    </tr>\n",
              "  </thead>\n",
              "  <tbody>\n",
              "    <tr>\n",
              "      <th>4773</th>\n",
              "      <td>1</td>\n",
              "      <td>64.318061</td>\n",
              "      <td>157.783021</td>\n",
              "    </tr>\n",
              "    <tr>\n",
              "      <th>7549</th>\n",
              "      <td>0</td>\n",
              "      <td>58.913826</td>\n",
              "      <td>116.421136</td>\n",
              "    </tr>\n",
              "    <tr>\n",
              "      <th>9278</th>\n",
              "      <td>0</td>\n",
              "      <td>61.407533</td>\n",
              "      <td>114.885446</td>\n",
              "    </tr>\n",
              "    <tr>\n",
              "      <th>8578</th>\n",
              "      <td>0</td>\n",
              "      <td>61.304754</td>\n",
              "      <td>104.855762</td>\n",
              "    </tr>\n",
              "    <tr>\n",
              "      <th>1165</th>\n",
              "      <td>1</td>\n",
              "      <td>67.749207</td>\n",
              "      <td>178.583627</td>\n",
              "    </tr>\n",
              "    <tr>\n",
              "      <th>7229</th>\n",
              "      <td>0</td>\n",
              "      <td>67.443661</td>\n",
              "      <td>160.288167</td>\n",
              "    </tr>\n",
              "    <tr>\n",
              "      <th>5757</th>\n",
              "      <td>0</td>\n",
              "      <td>60.786884</td>\n",
              "      <td>133.235538</td>\n",
              "    </tr>\n",
              "    <tr>\n",
              "      <th>7211</th>\n",
              "      <td>0</td>\n",
              "      <td>68.297719</td>\n",
              "      <td>150.146735</td>\n",
              "    </tr>\n",
              "    <tr>\n",
              "      <th>96</th>\n",
              "      <td>1</td>\n",
              "      <td>71.701234</td>\n",
              "      <td>193.094164</td>\n",
              "    </tr>\n",
              "    <tr>\n",
              "      <th>227</th>\n",
              "      <td>1</td>\n",
              "      <td>67.821093</td>\n",
              "      <td>169.081008</td>\n",
              "    </tr>\n",
              "  </tbody>\n",
              "</table>\n",
              "</div>"
            ],
            "text/plain": [
              "     Gender     Height      Weight\n",
              "4773      1  64.318061  157.783021\n",
              "7549      0  58.913826  116.421136\n",
              "9278      0  61.407533  114.885446\n",
              "8578      0  61.304754  104.855762\n",
              "1165      1  67.749207  178.583627\n",
              "7229      0  67.443661  160.288167\n",
              "5757      0  60.786884  133.235538\n",
              "7211      0  68.297719  150.146735\n",
              "96        1  71.701234  193.094164\n",
              "227       1  67.821093  169.081008"
            ]
          },
          "metadata": {
            "tags": []
          },
          "execution_count": 116
        }
      ]
    },
    {
      "cell_type": "markdown",
      "metadata": {
        "id": "uDYREqokuhoW"
      },
      "source": [
        "## **Step 5. Fit model**"
      ]
    },
    {
      "cell_type": "code",
      "metadata": {
        "id": "y-UP9xpluMOC"
      },
      "source": [
        "# set seed\n",
        "seed=1000"
      ],
      "execution_count": 117,
      "outputs": []
    },
    {
      "cell_type": "code",
      "metadata": {
        "id": "sKAi_5BO7UA6"
      },
      "source": [
        "df = shuffle(df, random_state=seed)"
      ],
      "execution_count": 118,
      "outputs": []
    },
    {
      "cell_type": "code",
      "metadata": {
        "id": "TG6dpIUP5mns"
      },
      "source": [
        "#features\n",
        "x=df.iloc[:, :-1]\n",
        "#labels\n",
        "y=df.iloc[:, -1]"
      ],
      "execution_count": 119,
      "outputs": []
    },
    {
      "cell_type": "code",
      "metadata": {
        "id": "jP822GmJ5Mf4"
      },
      "source": [
        "# split data: test, train and validation\n",
        "x_train, x_test, y_train, y_test = train_test_split(x, y, test_size= 0.2, shuffle= True, random_state=seed)\n",
        "x_train, x_valid, y_train, y_valid = train_test_split(x_train, y_train, test_size= 0.2, shuffle= True, random_state=seed)"
      ],
      "execution_count": 120,
      "outputs": []
    },
    {
      "cell_type": "markdown",
      "metadata": {
        "id": "JF6HmYjdEl-S"
      },
      "source": [
        "**Linear regression- Baseline**"
      ]
    },
    {
      "cell_type": "code",
      "metadata": {
        "colab": {
          "base_uri": "https://localhost:8080/"
        },
        "id": "6A445qA16iT0",
        "outputId": "480acf9e-cdf0-4429-f8a6-ccd31edb0d07"
      },
      "source": [
        "modelLR = LinearRegression()\n",
        "modelLR.fit(x_train,y_train)"
      ],
      "execution_count": 121,
      "outputs": [
        {
          "output_type": "execute_result",
          "data": {
            "text/plain": [
              "LinearRegression(copy_X=True, fit_intercept=True, n_jobs=None, normalize=False)"
            ]
          },
          "metadata": {
            "tags": []
          },
          "execution_count": 121
        }
      ]
    },
    {
      "cell_type": "code",
      "metadata": {
        "colab": {
          "base_uri": "https://localhost:8080/"
        },
        "id": "1U4DM1Ed8l44",
        "outputId": "2452fb1c-33f0-485f-b699-ff0a253f8339"
      },
      "source": [
        "modelLR.score(x_train,y_train)\n"
      ],
      "execution_count": 122,
      "outputs": [
        {
          "output_type": "execute_result",
          "data": {
            "text/plain": [
              "0.9034508655293365"
            ]
          },
          "metadata": {
            "tags": []
          },
          "execution_count": 122
        }
      ]
    },
    {
      "cell_type": "code",
      "metadata": {
        "colab": {
          "base_uri": "https://localhost:8080/"
        },
        "id": "JqqE-2Sn_6WA",
        "outputId": "abf4256c-2678-4a29-c27f-f8dc9e83000a"
      },
      "source": [
        "modelLR.score(x_valid,y_valid)"
      ],
      "execution_count": 123,
      "outputs": [
        {
          "output_type": "execute_result",
          "data": {
            "text/plain": [
              "0.9013124472477695"
            ]
          },
          "metadata": {
            "tags": []
          },
          "execution_count": 123
        }
      ]
    },
    {
      "cell_type": "markdown",
      "metadata": {
        "id": "8g44pSaUEtSr"
      },
      "source": [
        "**Gradient Boosting**"
      ]
    },
    {
      "cell_type": "code",
      "metadata": {
        "colab": {
          "base_uri": "https://localhost:8080/"
        },
        "id": "BlnuaTzMEsCa",
        "outputId": "c8907f54-2915-41b4-871b-a7bda0fd68e3"
      },
      "source": [
        "modelGBoost = GradientBoostingRegressor(random_state=seed)\n",
        "modelGBoost.fit(x_train,y_train)"
      ],
      "execution_count": 128,
      "outputs": [
        {
          "output_type": "execute_result",
          "data": {
            "text/plain": [
              "GradientBoostingRegressor(alpha=0.9, ccp_alpha=0.0, criterion='friedman_mse',\n",
              "                          init=None, learning_rate=0.1, loss='ls', max_depth=3,\n",
              "                          max_features=None, max_leaf_nodes=None,\n",
              "                          min_impurity_decrease=0.0, min_impurity_split=None,\n",
              "                          min_samples_leaf=1, min_samples_split=2,\n",
              "                          min_weight_fraction_leaf=0.0, n_estimators=100,\n",
              "                          n_iter_no_change=None, presort='deprecated',\n",
              "                          random_state=1000, subsample=1.0, tol=0.0001,\n",
              "                          validation_fraction=0.1, verbose=0, warm_start=False)"
            ]
          },
          "metadata": {
            "tags": []
          },
          "execution_count": 128
        }
      ]
    },
    {
      "cell_type": "code",
      "metadata": {
        "colab": {
          "base_uri": "https://localhost:8080/"
        },
        "id": "HhYTok1zFTrN",
        "outputId": "2b1e4697-ff74-4bd2-d65c-ccefc9b543d0"
      },
      "source": [
        "modelGBoost.score(x_train,y_train)"
      ],
      "execution_count": 130,
      "outputs": [
        {
          "output_type": "execute_result",
          "data": {
            "text/plain": [
              "0.908153465201418"
            ]
          },
          "metadata": {
            "tags": []
          },
          "execution_count": 130
        }
      ]
    },
    {
      "cell_type": "code",
      "metadata": {
        "colab": {
          "base_uri": "https://localhost:8080/"
        },
        "id": "tRGoWa2PFGPi",
        "outputId": "f8d359bb-8a54-4f6c-8f11-dbdbe5c4657a"
      },
      "source": [
        "modelGBoost.score(x_valid,y_valid)"
      ],
      "execution_count": 129,
      "outputs": [
        {
          "output_type": "execute_result",
          "data": {
            "text/plain": [
              "0.9010151283253824"
            ]
          },
          "metadata": {
            "tags": []
          },
          "execution_count": 129
        }
      ]
    },
    {
      "cell_type": "markdown",
      "metadata": {
        "id": "3d1Ux1JwFkKS"
      },
      "source": [
        "**Random forest**"
      ]
    },
    {
      "cell_type": "code",
      "metadata": {
        "id": "u6i5jiG7GL1Z"
      },
      "source": [
        "max_depth=[int(x) for x in np.linspace(5, 15, num = 11)]"
      ],
      "execution_count": 141,
      "outputs": []
    },
    {
      "cell_type": "code",
      "metadata": {
        "id": "qRerJ3raHgov"
      },
      "source": [
        "random_grid = {\n",
        "               'max_depth': max_depth\n",
        "              }"
      ],
      "execution_count": 142,
      "outputs": []
    },
    {
      "cell_type": "code",
      "metadata": {
        "colab": {
          "base_uri": "https://localhost:8080/"
        },
        "id": "UlPgsdvhFot_",
        "outputId": "f2ebaf26-53f7-4abc-94d8-4a303b59d077"
      },
      "source": [
        "modelRf = RandomForestRegressor(random_state=seed)\n"
      ],
      "execution_count": 131,
      "outputs": [
        {
          "output_type": "execute_result",
          "data": {
            "text/plain": [
              "RandomForestRegressor(bootstrap=True, ccp_alpha=0.0, criterion='mse',\n",
              "                      max_depth=None, max_features='auto', max_leaf_nodes=None,\n",
              "                      max_samples=None, min_impurity_decrease=0.0,\n",
              "                      min_impurity_split=None, min_samples_leaf=1,\n",
              "                      min_samples_split=2, min_weight_fraction_leaf=0.0,\n",
              "                      n_estimators=100, n_jobs=None, oob_score=False,\n",
              "                      random_state=1000, verbose=0, warm_start=False)"
            ]
          },
          "metadata": {
            "tags": []
          },
          "execution_count": 131
        }
      ]
    },
    {
      "cell_type": "code",
      "metadata": {
        "id": "0xdHoMk3H4mb"
      },
      "source": [
        "modelRf_cv = RandomizedSearchCV(estimator = modelRf, param_distributions = random_grid, n_iter = 20, cv = 5, verbose=2, random_state=seed, n_jobs = -1)"
      ],
      "execution_count": 146,
      "outputs": []
    },
    {
      "cell_type": "code",
      "metadata": {
        "colab": {
          "base_uri": "https://localhost:8080/"
        },
        "id": "qJL5uYpcH5q3",
        "outputId": "aff18d7a-beb6-4b8f-a779-eb0cd335e5b7"
      },
      "source": [
        "modelRf_cv.fit(x_train,y_train)"
      ],
      "execution_count": 147,
      "outputs": [
        {
          "output_type": "stream",
          "text": [
            "Fitting 5 folds for each of 11 candidates, totalling 55 fits\n"
          ],
          "name": "stdout"
        },
        {
          "output_type": "stream",
          "text": [
            "/usr/local/lib/python3.7/dist-packages/sklearn/model_selection/_search.py:281: UserWarning: The total space of parameters 11 is smaller than n_iter=100. Running 11 iterations. For exhaustive searches, use GridSearchCV.\n",
            "  % (grid_size, self.n_iter, grid_size), UserWarning)\n",
            "[Parallel(n_jobs=-1)]: Using backend LokyBackend with 2 concurrent workers.\n",
            "[Parallel(n_jobs=-1)]: Done  37 tasks      | elapsed:   14.3s\n",
            "[Parallel(n_jobs=-1)]: Done  55 out of  55 | elapsed:   22.6s finished\n"
          ],
          "name": "stderr"
        },
        {
          "output_type": "execute_result",
          "data": {
            "text/plain": [
              "RandomizedSearchCV(cv=5, error_score=nan,\n",
              "                   estimator=RandomForestRegressor(bootstrap=True,\n",
              "                                                   ccp_alpha=0.0,\n",
              "                                                   criterion='mse',\n",
              "                                                   max_depth=None,\n",
              "                                                   max_features='auto',\n",
              "                                                   max_leaf_nodes=None,\n",
              "                                                   max_samples=None,\n",
              "                                                   min_impurity_decrease=0.0,\n",
              "                                                   min_impurity_split=None,\n",
              "                                                   min_samples_leaf=1,\n",
              "                                                   min_samples_split=2,\n",
              "                                                   min_weight_fraction_leaf=0.0,\n",
              "                                                   n_estimators=100,\n",
              "                                                   n_jobs=None, oob_score=False,\n",
              "                                                   random_state=1000, verbose=0,\n",
              "                                                   warm_start=False),\n",
              "                   iid='deprecated', n_iter=100, n_jobs=-1,\n",
              "                   param_distributions={'max_depth': [5, 6, 7, 8, 9, 10, 11, 12,\n",
              "                                                      13, 14, 15]},\n",
              "                   pre_dispatch='2*n_jobs', random_state=1000, refit=True,\n",
              "                   return_train_score=False, scoring=None, verbose=2)"
            ]
          },
          "metadata": {
            "tags": []
          },
          "execution_count": 147
        }
      ]
    },
    {
      "cell_type": "code",
      "metadata": {
        "colab": {
          "base_uri": "https://localhost:8080/"
        },
        "id": "tJFwj7CiIjd1",
        "outputId": "01e2f6c3-cea9-4068-a4af-4f29db0284bf"
      },
      "source": [
        "modelRf_cv.best_params_"
      ],
      "execution_count": 148,
      "outputs": [
        {
          "output_type": "execute_result",
          "data": {
            "text/plain": [
              "{'max_depth': 5}"
            ]
          },
          "metadata": {
            "tags": []
          },
          "execution_count": 148
        }
      ]
    },
    {
      "cell_type": "code",
      "metadata": {
        "colab": {
          "base_uri": "https://localhost:8080/"
        },
        "id": "oDiwUmFfFyrh",
        "outputId": "fd29dcde-c444-42a6-9820-46e6b162732c"
      },
      "source": [
        "modelRf_cv.score(x_train,y_train)"
      ],
      "execution_count": 149,
      "outputs": [
        {
          "output_type": "execute_result",
          "data": {
            "text/plain": [
              "0.9059815078317369"
            ]
          },
          "metadata": {
            "tags": []
          },
          "execution_count": 149
        }
      ]
    },
    {
      "cell_type": "code",
      "metadata": {
        "colab": {
          "base_uri": "https://localhost:8080/"
        },
        "id": "OjJU_zRjF2QU",
        "outputId": "0b22f11a-a721-4391-a865-5a2b0d390ba3"
      },
      "source": [
        "modelRf_cv.score(x_valid,y_valid)"
      ],
      "execution_count": 150,
      "outputs": [
        {
          "output_type": "execute_result",
          "data": {
            "text/plain": [
              "0.9007714681617698"
            ]
          },
          "metadata": {
            "tags": []
          },
          "execution_count": 150
        }
      ]
    },
    {
      "cell_type": "markdown",
      "metadata": {
        "id": "C4GxoBI5I5V2"
      },
      "source": [
        "**Voting Regressor**"
      ]
    },
    {
      "cell_type": "code",
      "metadata": {
        "colab": {
          "base_uri": "https://localhost:8080/"
        },
        "id": "tv8WluGVJ6Eq",
        "outputId": "8d13a0e4-a746-4f5f-ac85-4c776e618f2e"
      },
      "source": [
        "modelVr = VotingRegressor(\n",
        "    estimators=[\n",
        "        ('Lr', modelLR), # KNN\n",
        "        ('Rf', modelRf_cv), # SVM\n",
        "        ('Gboost', modelGBoost), # Linear regressor\n",
        "          ])\n",
        "modelVr.fit(x_train, y_train)\n"
      ],
      "execution_count": 152,
      "outputs": [
        {
          "output_type": "stream",
          "text": [
            "Fitting 5 folds for each of 11 candidates, totalling 55 fits\n"
          ],
          "name": "stdout"
        },
        {
          "output_type": "stream",
          "text": [
            "/usr/local/lib/python3.7/dist-packages/sklearn/model_selection/_search.py:281: UserWarning: The total space of parameters 11 is smaller than n_iter=100. Running 11 iterations. For exhaustive searches, use GridSearchCV.\n",
            "  % (grid_size, self.n_iter, grid_size), UserWarning)\n",
            "[Parallel(n_jobs=-1)]: Using backend LokyBackend with 2 concurrent workers.\n",
            "[Parallel(n_jobs=-1)]: Done  37 tasks      | elapsed:   14.3s\n",
            "[Parallel(n_jobs=-1)]: Done  55 out of  55 | elapsed:   22.5s finished\n"
          ],
          "name": "stderr"
        },
        {
          "output_type": "execute_result",
          "data": {
            "text/plain": [
              "VotingRegressor(estimators=[('Lr',\n",
              "                             LinearRegression(copy_X=True, fit_intercept=True,\n",
              "                                              n_jobs=None, normalize=False)),\n",
              "                            ('Rf',\n",
              "                             RandomizedSearchCV(cv=5, error_score=nan,\n",
              "                                                estimator=RandomForestRegressor(bootstrap=True,\n",
              "                                                                                ccp_alpha=0.0,\n",
              "                                                                                criterion='mse',\n",
              "                                                                                max_depth=None,\n",
              "                                                                                max_features='auto',\n",
              "                                                                                max_leaf_nodes=None,\n",
              "                                                                                max_samples=None,\n",
              "                                                                                min_impurity_decrease=0.0,\n",
              "                                                                                min_impurity_spli...\n",
              "                                                       loss='ls', max_depth=3,\n",
              "                                                       max_features=None,\n",
              "                                                       max_leaf_nodes=None,\n",
              "                                                       min_impurity_decrease=0.0,\n",
              "                                                       min_impurity_split=None,\n",
              "                                                       min_samples_leaf=1,\n",
              "                                                       min_samples_split=2,\n",
              "                                                       min_weight_fraction_leaf=0.0,\n",
              "                                                       n_estimators=100,\n",
              "                                                       n_iter_no_change=None,\n",
              "                                                       presort='deprecated',\n",
              "                                                       random_state=1000,\n",
              "                                                       subsample=1.0,\n",
              "                                                       tol=0.0001,\n",
              "                                                       validation_fraction=0.1,\n",
              "                                                       verbose=0,\n",
              "                                                       warm_start=False))],\n",
              "                n_jobs=None, weights=None)"
            ]
          },
          "metadata": {
            "tags": []
          },
          "execution_count": 152
        }
      ]
    },
    {
      "cell_type": "code",
      "metadata": {
        "colab": {
          "base_uri": "https://localhost:8080/"
        },
        "id": "oDy2ljhKKn18",
        "outputId": "e0dd7b2d-2a7c-4b85-8bbc-586116d79b37"
      },
      "source": [
        "modelVr.score(x_train,y_train)"
      ],
      "execution_count": 154,
      "outputs": [
        {
          "output_type": "execute_result",
          "data": {
            "text/plain": [
              "0.9062078172128538"
            ]
          },
          "metadata": {
            "tags": []
          },
          "execution_count": 154
        }
      ]
    },
    {
      "cell_type": "code",
      "metadata": {
        "colab": {
          "base_uri": "https://localhost:8080/"
        },
        "id": "jc9G41tsKeZz",
        "outputId": "0a79af52-5b6b-4eda-aa23-634629ce7dfa"
      },
      "source": [
        "modelVr.score(x_valid,y_valid)"
      ],
      "execution_count": 153,
      "outputs": [
        {
          "output_type": "execute_result",
          "data": {
            "text/plain": [
              "0.9013687114184482"
            ]
          },
          "metadata": {
            "tags": []
          },
          "execution_count": 153
        }
      ]
    },
    {
      "cell_type": "markdown",
      "metadata": {
        "id": "bpuXI4t6KsAu"
      },
      "source": [
        "Observations: the Voting regression is the best performing methods. However, the score obtained with linear regression in only 0.006% below. Therefore, linear regression is selected due to the interpretability of the model."
      ]
    },
    {
      "cell_type": "markdown",
      "metadata": {
        "id": "btNhE-FIuNK_"
      },
      "source": [
        "## **Step 6. Score model**"
      ]
    },
    {
      "cell_type": "code",
      "metadata": {
        "colab": {
          "base_uri": "https://localhost:8080/"
        },
        "id": "CWPqjOqpLVkN",
        "outputId": "6de94bc0-52ac-4f49-b7bb-d3361bfe63f8"
      },
      "source": [
        "modelLR.score(x_test,y_test)"
      ],
      "execution_count": 157,
      "outputs": [
        {
          "output_type": "execute_result",
          "data": {
            "text/plain": [
              "0.9012943183367622"
            ]
          },
          "metadata": {
            "tags": []
          },
          "execution_count": 157
        }
      ]
    },
    {
      "cell_type": "markdown",
      "metadata": {
        "id": "8Y3mO1ZCuwxH"
      },
      "source": [
        "## **Discussion**"
      ]
    },
    {
      "cell_type": "markdown",
      "metadata": {
        "id": "E9QIhRVmrOZW"
      },
      "source": [
        "Bias:\n",
        "Gender identified as?"
      ]
    }
  ]
}